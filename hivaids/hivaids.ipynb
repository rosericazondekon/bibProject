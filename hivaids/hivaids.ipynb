{
 "cells": [
  {
   "cell_type": "code",
   "execution_count": null,
   "metadata": {
    "collapsed": true
   },
   "outputs": [],
   "source": [
    "#Reading in file"
   ]
  },
  {
   "cell_type": "code",
   "execution_count": 1,
   "metadata": {
    "collapsed": true
   },
   "outputs": [],
   "source": [
    "#Import modules\n",
    "import tethne as rd\n",
    "import re\n",
    "import unicodedata\n",
    "import itertools\n",
    "import pickle\n",
    "import numpy as np\n",
    "import networkx as nx\n",
    "import matplotlib.pyplot as plt\n",
    "import pygraphviz\n",
    "import community # for community identification\n",
    "# import pymnet as pmn # for multilayer network visualization\n",
    "from collections import deque\n",
    "\n",
    "from tethne.readers import wos"
   ]
  },
  {
   "cell_type": "code",
   "execution_count": 1,
   "metadata": {
    "collapsed": false
   },
   "outputs": [],
   "source": [
    "# import tethne as rd\n",
    "# from tethne.readers.wos import WoSParser\n",
    "# parser = WoSParser(\"savedrecs.txt\")\n",
    "# dir(parser)\n",
    "# papers = parser.parse()\n",
    "#CA=rd.networks.authors.coauthors(papers)\n",
    "#dir(rd.networks.authors.coauthors)\n",
    "#dir(rd.readers)\n",
    "#print rd.__doc__\n",
    "#wos_list = wos.parse(\"savedrecs.txt\")\n",
    "#wos_list.keys()\n",
    "#for paper in corpus: print paper['WC']\n",
    "#corpus[0][\"WC\"]\n",
    "#len(corpus)\n",
    "#CA.size()\n",
    "#print (nx.number_of_nodes(CA),nx.number_of_edges(CA))"
   ]
  },
  {
   "cell_type": "code",
   "execution_count": 2,
   "metadata": {
    "collapsed": false
   },
   "outputs": [],
   "source": [
    "# address=[str(a) for a in papers[0]['authorAddress']]\n",
    "# papers[0]['authorAddress']\n",
    "# address"
   ]
  },
  {
   "cell_type": "code",
   "execution_count": 28,
   "metadata": {
    "collapsed": false
   },
   "outputs": [],
   "source": [
    "#papers[0]['authors_init']"
   ]
  },
  {
   "cell_type": "code",
   "execution_count": 25,
   "metadata": {
    "collapsed": false
   },
   "outputs": [],
   "source": [
    "#papers[0]['authors_full']"
   ]
  },
  {
   "cell_type": "code",
   "execution_count": 24,
   "metadata": {
    "collapsed": false
   },
   "outputs": [],
   "source": [
    "#papers[0]['authors']"
   ]
  },
  {
   "cell_type": "code",
   "execution_count": 2,
   "metadata": {
    "collapsed": false
   },
   "outputs": [],
   "source": [
    "corpus = wos.read(\"C://Users//Roseric//Documents//bibProject//hivaids//hivaids\")\n",
    "corpus\n",
    "CA=rd.networks.authors.coauthors(corpus)"
   ]
  },
  {
   "cell_type": "code",
   "execution_count": 3,
   "metadata": {
    "collapsed": false
   },
   "outputs": [
    {
     "name": "stdout",
     "output_type": "stream",
     "text": [
      "102 papers for a total of 966 authors. On average 9.47 authors per paper.\n"
     ]
    }
   ],
   "source": [
    "from __future__ import division\n",
    "# print pygraphviz.__doc__\n",
    "# dir(corpus[1])\n",
    "len(corpus[1]['authors'])\n",
    "nAuth=0\n",
    "for p in corpus:\n",
    "    nAuth+=len(p['authors'])\n",
    "print len(corpus),'papers for a total of',nAuth,'authors. On average',round(nAuth/len(corpus),2),'authors per paper.'"
   ]
  },
  {
   "cell_type": "code",
   "execution_count": 4,
   "metadata": {
    "collapsed": false
   },
   "outputs": [
    {
     "name": "stdout",
     "output_type": "stream",
     "text": [
      "Total number of Papers = 102\n"
     ]
    }
   ],
   "source": [
    "print 'Total number of Papers =', len(corpus)\n",
    "# type(int(corpus[10]['date']))"
   ]
  },
  {
   "cell_type": "code",
   "execution_count": 5,
   "metadata": {
    "collapsed": false
   },
   "outputs": [],
   "source": [
    "#Author Name Disambiguation\n",
    "# import re\n",
    "# import unicodedata\n",
    "# # Create csv file for AND (Author Name Disambiguation)\n",
    "# # csvFile=\"authors.csv\"\n",
    "# csvFile=\"authors2.csv\"\n",
    "# f=open(csvFile,'w')\n",
    "# numId=1\n",
    "# header=\"Id,init_name,last_name,first_name,affiliation,city,country\\n\"\n",
    "# f.write(header)\n",
    "# for paper in corpus:\n",
    "#     for i in range(0,len(paper['authors'])):\n",
    "#         init_name=str(paper['authors_init'][i][0]+' '+paper['authors_init'][i][1])\n",
    "#         last_name=str(paper['authors_full'][i][0])\n",
    "#         first_name=str(paper['authors_full'][i][1])\n",
    "#         full_name=str(paper['authors_full'][i][0]+' '+paper['authors_full'][i][1])\n",
    "# #         if 'authorAddress' in dir(paper):author_address=paper['authorAddress']\n",
    "# #         numId+=1\n",
    "# #         print author_address, i\n",
    "# #         print paper['authorAddress']\n",
    "#         try:\n",
    "#             author_list=[unicodedata.normalize('NFKD', a).encode('ascii','ignore') for a in paper['authorAddress']]\n",
    "#         except AttributeError: author_list=[]\n",
    "# #         print i,' ',author_list\n",
    "#         #else: author_list=[]\n",
    "#         affiliation=''\n",
    "#         city=''\n",
    "#         country=''\n",
    "#         for addr in author_list:\n",
    "#             #print paper['authors']\n",
    "#             #print addr\n",
    "#             try:\n",
    "#                 address=re.sub('[,.]', '', addr[addr.index(\"[\") + 1:addr.index(\"]\")]).split('; ')\n",
    "#             except ValueError: address=[]\n",
    "#             address_list=[ad.lower() for ad in address]\n",
    "#             if full_name.lower() in address_list:\n",
    "#                 full_address=re.sub('[.]','',addr.split('] ')[-1])\n",
    "#                 city=full_address.split(',')[-2].lstrip()\n",
    "#                 country=full_address.split(',')[-1].lstrip()\n",
    "#                 affiliation=re.sub(\"[\\[\\]',]\",\"\",str(full_address.split(',')[:-2]))\n",
    "#                 numId += 1\n",
    "#             else:\n",
    "#                 numId += 1\n",
    "#             f.write(str(numId-1)+','+init_name+','+last_name+','+first_name+','+affiliation+','+city+','+country+','+'\\n')\n",
    "# #             print str(numId)+','+init_name+','+full_name+','+affiliation+','+city+','+country\n",
    "# #             f.write(str(numId-1)+','+init_name+','+full_name+','+affiliation+','+city+','+country+','+'\\n')\n",
    "# f.close()"
   ]
  },
  {
   "cell_type": "code",
   "execution_count": 5,
   "metadata": {
    "collapsed": false
   },
   "outputs": [
    {
     "data": {
      "text/plain": [
       "612"
      ]
     },
     "execution_count": 5,
     "metadata": {},
     "output_type": "execute_result"
    }
   ],
   "source": [
    "authFile=open(\"authHIV_dict.csv\",\"r\")\n",
    "authFile.readline()\n",
    "auth_dict={}\n",
    "\n",
    "for line in authFile:\n",
    "    lineList=line.strip('\\n').split(',')\n",
    "    auth_dict[lineList[4]]=[int(lineList[0]), str(lineList[5]), str(lineList[6]), str(lineList[7]), str(lineList[8])]\n",
    "authFile.close()\n",
    "len(auth_dict)"
   ]
  },
  {
   "cell_type": "code",
   "execution_count": 130,
   "metadata": {
    "collapsed": false
   },
   "outputs": [],
   "source": [
    "# nf=open(\"notfound.csv\",\"r\")\n",
    "# notFound=[]\n",
    "# for line in nf:\n",
    "#     notFound.append(str(line.strip('\\n')))\n",
    "# nf.close()\n",
    "# nfFile = open(\"nfFile.txt\",\"wb\")\n",
    "# print notFound"
   ]
  },
  {
   "cell_type": "code",
   "execution_count": 6,
   "metadata": {
    "collapsed": false
   },
   "outputs": [],
   "source": [
    "#Function definition\n",
    "\n",
    "###Defining function addAuthors()\n",
    "def addAuthors(paper, auth_dict, netw):\n",
    "    authors={}\n",
    "    for i in range(0,len(paper['authors'])):\n",
    "        full_name=str(paper['authors_full'][i][0]+' '+paper['authors_full'][i][1])\n",
    "        authors[auth_dict[full_name][0]]=auth_dict[full_name]\n",
    "    auth=[k for k in authors]\n",
    "    edges = itertools.combinations(auth,2)\n",
    "    for k in authors:\n",
    "#         country=authors[k][4]\n",
    "        if k not in netw:\n",
    "            netw.add_node(k, name=authors[k][1], affil=authors[k][2], place=authors[k][3], country=authors[k][4])\n",
    "#     if full_name in notFound:\n",
    "#         try: nfFile.write(full_name+'--->'+str(paper['wosid'])+str(paper['authorAddress'])+'\\n')\n",
    "#         except: nfFile.write(full_name+'--->'+str(dir(paper))+str(paper['wosid'])+'\\n')\n",
    "    title=str(paper['title'])\n",
    "    timesCited=0\n",
    "    if 'doi' in dir(paper):doi=str(paper['doi'])\n",
    "    else: doi='N/A'\n",
    "    if 'wosid' in dir(paper):wosid=str(paper['wosid']) \n",
    "    else: wosid='N/A'\n",
    "    if 'journal' in dir(paper):journal=str(paper['journal']) \n",
    "    else: journal='N/A'\n",
    "    if 'abstract' in dir(paper):abstract=str(paper['abstract'])\n",
    "    if 'timesCited' in dir(paper) and type(paper['timesCited'][0]) != unicode: timesCited=int(paper['timesCited'][0])\n",
    "    else: abstract='N/A'\n",
    "    subject=re.sub('[\\[\\]]','',str(paper['subject']))\n",
    "    year=int(paper['date'])\n",
    "    netw.add_edges_from(edges,\n",
    "                        title=title,\n",
    "                        journal=journal,\n",
    "                        wosid=wosid,\n",
    "                        doi=doi,\n",
    "                        subject=subject,\n",
    "                        year=year,\n",
    "                        timesCited=timesCited\n",
    "#                         abstract=abstract\n",
    "                       )\n",
    "\n",
    "###Defining degree distribution plot function\n",
    "def plotDegree(G):\n",
    "    #Degree distribution\n",
    "    #in_degrees= cam_net.in_degree() \n",
    "    # dictionary node:degree\n",
    "    #in_values= sorted(set(in_degrees.values()))\n",
    "    degree=G.degree().values()\n",
    "    in_values=sorted(set(degree))\n",
    "    in_hist= [degree.count(x) for x in in_values]\n",
    "    \n",
    "    plt.figure() # you need to first do 'import pylab as plt '\n",
    "    plt.grid(True)\n",
    "    plt.plot(in_values, in_hist, 'bo', markersize=4) # in-degree\n",
    "    plt.loglog(in_values,in_hist,'bo', markersize=4)\n",
    "    #plt.plot(out_values, out_hist, 'bv-') # out-degree\n",
    "    #plt.legend(['In-degree', 'Out-degree'])\n",
    "    plt.legend(['Degree'])\n",
    "    plt.xlabel('Degree')\n",
    "    plt.ylabel('Number of nodes')\n",
    "    #plt.title('network of places in Cambridge')\n",
    "    plt.title('co-authorship network degree distribution')\n",
    "    plt.xlim([0, 14*10**2])\n",
    "    plt.show()\n",
    "    #plt.savefig('./output/cam_net_degree_distribution.pdf')\n",
    "    #plt.close()\n",
    "    \n",
    "#Defining centrality scatter function\n",
    "def centrality_scatter(dict1,dict2,#path=\"\",\n",
    "                       ylab=\"\",xlab=\"\",title=\"\",line=False):\n",
    "    # Create figure and drawing axis\n",
    "    fig = plt.figure(figsize=(7,7))\n",
    "    ax1 = fig.add_subplot(111)\n",
    "    # Create items and extract centralities\n",
    "    items1 = sorted(dict1.items())\n",
    "    items2 = sorted(dict2.items())\n",
    "    xdata=[b for a,b in items1]\n",
    "    ydata=[b for a,b in items2] \n",
    "    # Add each actor to the plot by ID \n",
    "    for p in xrange(len(items1)):\n",
    "        ax1.text(x=xdata[p], y=ydata[p],s=str(items1[p][0]), color=\"b\")\n",
    "    if line:\n",
    "        # use NumPy to calculate the best fit\n",
    "        slope, yint = plt.polyfit(xdata,ydata,1)\n",
    "        xline = plt.xticks()[0] \n",
    "        yline = map(lambda x: slope*x+yint,xline)\n",
    "        ax1.plot(xline,yline,ls='--',color='b')\n",
    "    # Set new x- and y-axis limits\n",
    "    plt.xlim((0.0,max(xdata)+(.15*max(xdata))))\n",
    "    plt.ylim((0.0,max(ydata)+(.15*max(ydata))))\n",
    "    # Add labels and save\n",
    "    ax1.set_title(title)\n",
    "    ax1.set_xlabel(xlab) \n",
    "    ax1.set_ylabel(ylab) \n",
    "    plt.show()\n",
    "#     plt.savefig(path)\n",
    "\n",
    "\n",
    "#Defining more analysis functions\n",
    "def breadth_first_search(g, source): \n",
    "    queue = deque([(None, source)]) \n",
    "    enqueued = set([source]) \n",
    "    while queue:\n",
    "        parent,n = queue.popleft() \n",
    "        yield  parent,n\n",
    "        new = set(g[n]) - enqueued \n",
    "        enqueued |= new\n",
    "        queue.extend([(n, child) for child in new])\n",
    "\n",
    "def avg_neigh_degree(g):\n",
    "     return dict((n,float(sum(g.degree(i) for i in g[n]))/g.degree(n))\n",
    "                 for n in g.nodes() if g.degree(n))\n",
    "    \n",
    "def get_triangles(g):\n",
    "    for n1 in g.nodes:\n",
    "        neighbors1 = set(g[n1])\n",
    "        for n2 in filter(lambda x: x>n1, nodes):\n",
    "            neighbors2 = set(g[n2]) \n",
    "            common = neighbors1 & neighbors2\n",
    "            for n3 in filter(lambda x: x>n2, common):\n",
    "                yield n1,n2,n3\n",
    "\n",
    "# Transfer attributes from MultiGraph object to graph object\n",
    "def transAtt(H, G, attrList):\n",
    "    for attr in attrList:\n",
    "        D = {}\n",
    "        for u in G:\n",
    "            D[u] = H.node[u][attr]\n",
    "        nx.set_node_attributes(G, attr, D)\n",
    "\n",
    "# Addind the times cited and numPub count as node attributes\n",
    "def addCitedNumPub(CAnet):\n",
    "    nCited = {}\n",
    "    nPapers = {}\n",
    "    for u in CAnet:\n",
    "        sumCited=0 # initialise author's citation sum\n",
    "        papers={}\n",
    "        for v in CAnet.neighbors(u):# get v's neighbors\n",
    "            for i in list(CAnet[u][v].iterkeys()):\n",
    "                # get all v's papers and times cited\n",
    "                papers[CAnet[u][v][i]['wosid']]=papers.get(CAnet[u][v][i]['wosid'],CAnet[u][v][i]['timesCited'])\n",
    "        sumCited = sum([papers[k] for k in papers.keys()])\n",
    "        nCited[u] = sumCited\n",
    "        nPapers[u] = len(papers)\n",
    "    nx.set_node_attributes(CAnet, 'timesCited', nCited)\n",
    "    nx.set_node_attributes(CAnet, 'numPub', nPapers)\n",
    "\n",
    "# Subsetting Network by time periods\n",
    "def subGraph(G, year, subFolderName):\n",
    "    for y in year:\n",
    "        period = [int(i) for i in y.split('-')]\n",
    "        temp = CAnet2.copy()\n",
    "        for edge in list(temp.edges_iter()):\n",
    "            for k in temp[edge[0]][edge[1]].keys():\n",
    "                if len(period)==2:\n",
    "                    if temp[edge[0]][edge[1]][k]['year']<period[0] or temp[edge[0]][edge[1]][k]['year']>period[1]:\n",
    "                        del temp[edge[0]][edge[1]][k]\n",
    "                else:\n",
    "                    if temp[edge[0]][edge[1]][k]['year']!=period[0]:\n",
    "                        del temp[edge[0]][edge[1]][k]\n",
    "        addCitedNumPub(temp)\n",
    "        print y,': ',' Nodes:',temp.order(),' Edges:',temp.size()\n",
    "        nx.write_graphml(temp,'graph/'+subFolderName+'/CAnet_'+str(y)+'.graphml')"
   ]
  },
  {
   "cell_type": "code",
   "execution_count": 7,
   "metadata": {
    "collapsed": false
   },
   "outputs": [],
   "source": [
    "#Creating Multivariate Network\n",
    "CAnet=nx.MultiGraph()\n",
    "for paper in corpus:\n",
    "    addAuthors(paper,auth_dict,CAnet)\n",
    "# nfFile.close()"
   ]
  },
  {
   "cell_type": "code",
   "execution_count": 8,
   "metadata": {
    "collapsed": false
   },
   "outputs": [],
   "source": [
    "# Addind the times cited count as node attributes\n",
    "nCited = {}\n",
    "nPapers = {}\n",
    "for u in CAnet:\n",
    "    sumCited=0 # initialise author's citation sum\n",
    "    papers={}\n",
    "    for v in CAnet.neighbors(u):# get v's neighbors\n",
    "        for i in list(CAnet[u][v].iterkeys()):\n",
    "            # get all v's papers and times cited\n",
    "            papers[CAnet[u][v][i]['wosid']]=papers.get(CAnet[u][v][i]['wosid'],CAnet[u][v][i]['timesCited'])\n",
    "    sumCited = sum([papers[k] for k in papers.keys()])\n",
    "    nCited[u] = sumCited\n",
    "    nPapers[u] = len(papers)\n",
    "nx.set_node_attributes(CAnet, 'timesCited', nCited)\n",
    "nx.set_node_attributes(CAnet, 'numPub', nPapers)"
   ]
  },
  {
   "cell_type": "code",
   "execution_count": 9,
   "metadata": {
    "collapsed": false,
    "scrolled": true
   },
   "outputs": [
    {
     "name": "stdout",
     "output_type": "stream",
     "text": [
      "name: AVEIKA AKUM    numb. of Publ.: 1    timesCited: 7\n"
     ]
    }
   ],
   "source": [
    "# nx.get_node_attributes(CAnet,'timesCited')\n",
    "ent=219\n",
    "print 'name:',CAnet.node[ent]['name'],'   numb. of Publ.:',CAnet.node[ent]['numPub'],'   timesCited:',CAnet.node[ent]['timesCited']"
   ]
  },
  {
   "cell_type": "code",
   "execution_count": 16,
   "metadata": {
    "collapsed": true
   },
   "outputs": [],
   "source": [
    "#Writing Whole graph to GraphML\n",
    "nx.write_graphml(CAnet, \"graph/HIVnet.graphml\")"
   ]
  },
  {
   "cell_type": "code",
   "execution_count": 10,
   "metadata": {
    "collapsed": true
   },
   "outputs": [],
   "source": [
    "#Generating 16 years training net for link prediction using predlink\n",
    "##Training_set = CA_training\n",
    "##Testing_set = CA_testing\n",
    "CA_training=nx.MultiGraph()\n",
    "CA_testing=nx.MultiGraph()\n",
    "for paper in corpus:\n",
    "    if int(paper['date'])<= 2014:\n",
    "        addAuthors(paper,auth_dict,CA_training)\n",
    "    else:\n",
    "        addAuthors(paper,auth_dict,CA_testing)\n",
    "#Visualizing Network"
   ]
  },
  {
   "cell_type": "code",
   "execution_count": 18,
   "metadata": {
    "collapsed": true
   },
   "outputs": [],
   "source": [
    "trainTest = [CA_training, CA_testing] # a list containing training and testing set\n",
    "pickle.dump( trainTest, open( \"pickle/trainTest.p\", \"wb\" ) )"
   ]
  },
  {
   "cell_type": "code",
   "execution_count": 19,
   "metadata": {
    "collapsed": true
   },
   "outputs": [],
   "source": [
    "#Wrinting training and testing graph to pajek files\n",
    "# nx.write_pajek(CA_training,'linkpred/HIVnet_training.net')\n",
    "# nx.write_pajek(CA_testing,'linkpred/HIVnet_testing.net')"
   ]
  },
  {
   "cell_type": "code",
   "execution_count": 20,
   "metadata": {
    "collapsed": true
   },
   "outputs": [],
   "source": [
    "#Wrinting training and testing graph to GraphML files\n",
    "# nx.write_graphml(CA_training,'linkpred/HIVnet_training.graphml')\n",
    "# nx.write_graphml(CA_testing,'linkpred/HIVnet_testing.graphml')"
   ]
  },
  {
   "cell_type": "code",
   "execution_count": 12,
   "metadata": {
    "collapsed": false
   },
   "outputs": [],
   "source": [
    "# paper['authors']"
   ]
  },
  {
   "cell_type": "code",
   "execution_count": 11,
   "metadata": {
    "collapsed": false
   },
   "outputs": [
    {
     "data": {
      "image/png": "[encoded data removed]",
      "text/plain": [
       "<matplotlib.figure.Figure at 0x40cb208>"
      ]
     },
     "metadata": {},
     "output_type": "display_data"
    }
   ],
   "source": [
    "pos=nx.spring_layout(CAnet)\n",
    "nx.draw(CAnet,pos, node_size=80)\n",
    "plt.show()"
   ]
  },
  {
   "cell_type": "code",
   "execution_count": 12,
   "metadata": {
    "collapsed": false
   },
   "outputs": [],
   "source": [
    "#Identifying Co-authorship Communities\n",
    "# dir(community)\n",
    "#Converting CAnet multigraph to graph\n",
    "G = nx.Graph()\n",
    "for u,v,data in CAnet.edges_iter(data=True):\n",
    "    w = data['weight'] if 'weight' in data else 1.0\n",
    "    if G.has_edge(u,v):\n",
    "        G[u][v]['weight'] += w\n",
    "    else:\n",
    "        G.add_edge(u, v, weight=w)\n",
    "\n",
    "\n",
    "attrList = ['name', 'affil', 'place', 'country', 'timesCited', 'numPub']\n",
    "transAtt(CAnet, G, attrList)"
   ]
  },
  {
   "cell_type": "code",
   "execution_count": 13,
   "metadata": {
    "collapsed": false
   },
   "outputs": [
    {
     "data": {
      "image/png": "[encoded data removed]",
      "text/plain": [
       "<matplotlib.figure.Figure at 0x1c659cc0>"
      ]
     },
     "metadata": {},
     "output_type": "display_data"
    }
   ],
   "source": [
    "#Identifying Communities and drawing G\n",
    "part = community.best_partition(G)\n",
    "values = [part.get(node) for node in G.nodes()]\n",
    "plt.figure(figsize=(8,8))\n",
    "nx.draw_spring(G, cmap = plt.get_cmap('jet'), node_color = values, node_size=80, with_labels=False)\n",
    "plt.show()"
   ]
  },
  {
   "cell_type": "code",
   "execution_count": 24,
   "metadata": {
    "collapsed": false
   },
   "outputs": [],
   "source": [
    "pickle.dump(G, open(\"pickle/HIVnet_weighted.p\", \"wb\"))"
   ]
  },
  {
   "cell_type": "code",
   "execution_count": 25,
   "metadata": {
    "collapsed": true
   },
   "outputs": [],
   "source": [
    "#Writing Graph element to GraphML file\n",
    "nx.write_graphml(G,'graph/HIVnet_weighted.graphml')"
   ]
  },
  {
   "cell_type": "code",
   "execution_count": 26,
   "metadata": {
    "collapsed": false
   },
   "outputs": [
    {
     "data": {
      "image/png": "[encoded data removed]",
      "text/plain": [
       "<matplotlib.figure.Figure at 0x1ecbb668>"
      ]
     },
     "metadata": {},
     "output_type": "display_data"
    }
   ],
   "source": [
    "#Visualizing CA_training\n",
    "pos=nx.spring_layout(CA_training)\n",
    "nx.draw(CA_training,pos, node_size=80)\n",
    "plt.show()"
   ]
  },
  {
   "cell_type": "code",
   "execution_count": 27,
   "metadata": {
    "collapsed": false
   },
   "outputs": [
    {
     "data": {
      "image/png": "[encoded data removed]",
      "text/plain": [
       "<matplotlib.figure.Figure at 0x1ecbb198>"
      ]
     },
     "metadata": {},
     "output_type": "display_data"
    }
   ],
   "source": [
    "#Visualizing CA_training\n",
    "pos=nx.spring_layout(CA_testing)\n",
    "nx.draw(CA_testing,pos, node_size=80)\n",
    "plt.show()"
   ]
  },
  {
   "cell_type": "code",
   "execution_count": 14,
   "metadata": {
    "collapsed": false
   },
   "outputs": [
    {
     "name": "stdout",
     "output_type": "stream",
     "text": [
      "HIVnet: 516   HIVnet_training: 381   HIVnet_testing: 187\n"
     ]
    }
   ],
   "source": [
    "print 'HIVnet:',len(CAnet),' ','HIVnet_training:',len(CA_training),' ','HIVnet_testing:',len(CA_testing)"
   ]
  },
  {
   "cell_type": "code",
   "execution_count": 15,
   "metadata": {
    "collapsed": false
   },
   "outputs": [
    {
     "name": "stdout",
     "output_type": "stream",
     "text": [
      "Nodes:  516\n",
      "Edges:  5114\n",
      "Average degree:  9.91085271318\n"
     ]
    }
   ],
   "source": [
    "#Descriptive properties of the co-authorship network\n",
    "N,K = CAnet.order(), CAnet.size()\n",
    "avg_deg = float(K)/N\n",
    "print \"Nodes: \", N\n",
    "print \"Edges: \", K\n",
    "print \"Average degree: \", avg_deg"
   ]
  },
  {
   "cell_type": "code",
   "execution_count": 16,
   "metadata": {
    "collapsed": false
   },
   "outputs": [
    {
     "name": "stdout",
     "output_type": "stream",
     "text": [
      "\n",
      "Degree ditribution for HIVnet\n"
     ]
    },
    {
     "data": {
      "image/png": "[encoded data removed]",
      "text/plain": [
       "<matplotlib.figure.Figure at 0x1bffb4a8>"
      ]
     },
     "metadata": {},
     "output_type": "display_data"
    },
    {
     "name": "stdout",
     "output_type": "stream",
     "text": [
      "Degree ditribution for HIVnet_training\n"
     ]
    },
    {
     "data": {
      "image/png": "[encoded data removed]",
      "text/plain": [
       "<matplotlib.figure.Figure at 0x1c039dd8>"
      ]
     },
     "metadata": {},
     "output_type": "display_data"
    },
    {
     "name": "stdout",
     "output_type": "stream",
     "text": [
      "Degree ditribution for HIVnet_testing\n"
     ]
    },
    {
     "data": {
      "image/png": "[encoded data removed]",
      "text/plain": [
       "<matplotlib.figure.Figure at 0x1d534d68>"
      ]
     },
     "metadata": {},
     "output_type": "display_data"
    }
   ],
   "source": [
    "#Degree distribution\n",
    "print '\\nDegree ditribution for HIVnet'\n",
    "plotDegree(CAnet)\n",
    "print 'Degree ditribution for HIVnet_training'\n",
    "plotDegree(CA_training)\n",
    "print 'Degree ditribution for HIVnet_testing'\n",
    "plotDegree(CA_testing)"
   ]
  },
  {
   "cell_type": "code",
   "execution_count": 17,
   "metadata": {
    "collapsed": false
   },
   "outputs": [
    {
     "name": "stdout",
     "output_type": "stream",
     "text": [
      "0.520467836257\n"
     ]
    }
   ],
   "source": [
    "# Clustering coefficient of node 0\n",
    "print nx.clustering(G, 0)"
   ]
  },
  {
   "cell_type": "code",
   "execution_count": 33,
   "metadata": {
    "collapsed": false
   },
   "outputs": [],
   "source": [
    "# Clustering coefficient of all nodes (in a dictionary)\n",
    "clust_coefficients = nx.clustering(G)"
   ]
  },
  {
   "cell_type": "code",
   "execution_count": 34,
   "metadata": {
    "collapsed": false
   },
   "outputs": [
    {
     "data": {
      "text/plain": [
       "0.8795418287044662"
      ]
     },
     "execution_count": 34,
     "metadata": {},
     "output_type": "execute_result"
    }
   ],
   "source": [
    "# Average clustering coefficient\n",
    "ccs =  clust_coefficients\n",
    "avg_clust = sum(ccs.values()) / len(ccs)\n",
    "avg_clust"
   ]
  },
  {
   "cell_type": "code",
   "execution_count": 35,
   "metadata": {
    "collapsed": false
   },
   "outputs": [],
   "source": [
    "#Basic network analysis - node centralities\n",
    "# G_components = nx.connected_component_subgraphs(G)\n",
    "# G_mc = list(G_components)[0]\n",
    "# Betweenness centrality\n",
    "bet_cen = nx.betweenness_centrality(G)\n",
    "# Closeness centrality\n",
    "clo_cen = nx.closeness_centrality(G)\n",
    "# Eigenvector centrality\n",
    "eig_cen = nx.eigenvector_centrality(G,max_iter=1000)"
   ]
  },
  {
   "cell_type": "code",
   "execution_count": 36,
   "metadata": {
    "collapsed": false
   },
   "outputs": [
    {
     "name": "stdout",
     "output_type": "stream",
     "text": [
      "betweenness: 515  closeness: 515  eigenvector: 515\n"
     ]
    }
   ],
   "source": [
    "print 'betweenness:',len(bet_cen),' closeness:',len(clo_cen),' eigenvector:',len(eig_cen)"
   ]
  },
  {
   "cell_type": "code",
   "execution_count": 39,
   "metadata": {
    "collapsed": false
   },
   "outputs": [],
   "source": [
    "plt.figure() # you need to first do 'import pylab as plt '\n",
    "plt.grid(False)\n",
    "betw=[bet_cen[k] for k in bet_cen]\n",
    "closn=[clo_cen[k] for k in bet_cen]\n",
    "m, b = np.polyfit(betw, closn, 1)\n",
    "plt.plot(betw, closn, 'bo', markersize=4) # in-degree\n",
    "plt.plot(betw, m*betw + b, 'b-',linewidth=0.5)\n",
    "# plt.loglog(in_values,in_hist,'bo-')\n",
    "# plt.plot(out_values, out_hist, 'bv-') # out-degree\n",
    "# plt.legend(['In-degree', 'Out-degree'])\n",
    "# plt.legend(['Degree'])\n",
    "plt.xlabel('Betweenness centrality')\n",
    "plt.ylabel('Closeness centrality')\n",
    "#plt.title('network of places in Cambridge')\n",
    "plt.title('co-authorship network')\n",
    "# plt.xlim([0, 14*10**2])\n",
    "plt.show()"
   ]
  },
  {
   "cell_type": "code",
   "execution_count": 40,
   "metadata": {
    "collapsed": false
   },
   "outputs": [
    {
     "data": {
      "image/png": "[encoded data removed]",
      "text/plain": [
       "<matplotlib.figure.Figure at 0x1ff65a90>"
      ]
     },
     "metadata": {},
     "output_type": "display_data"
    },
    {
     "data": {
      "image/png": "[encoded data removed]",
      "text/plain": [
       "<matplotlib.figure.Figure at 0x1d1c14a8>"
      ]
     },
     "metadata": {},
     "output_type": "display_data"
    },
    {
     "data": {
      "image/png": "[encoded data removed]",
      "text/plain": [
       "<matplotlib.figure.Figure at 0x1cb81048>"
      ]
     },
     "metadata": {},
     "output_type": "display_data"
    }
   ],
   "source": [
    "centrality_scatter(bet_cen,clo_cen,ylab=\"closeness centrality\",xlab=\"betweeness centrality\",\n",
    "                   title=\"co-authorship network\",line=False)"
   ]
  },
  {
   "cell_type": "code",
   "execution_count": 41,
   "metadata": {
    "collapsed": false
   },
   "outputs": [
    {
     "data": {
      "image/png": "[encoded data removed]",
      "text/plain": [
       "<matplotlib.figure.Figure at 0x1fa700f0>"
      ]
     },
     "metadata": {},
     "output_type": "display_data"
    }
   ],
   "source": [
    "nx.draw(G, node_size=40)\n",
    "plt.show()"
   ]
  },
  {
   "cell_type": "code",
   "execution_count": 42,
   "metadata": {
    "collapsed": false
   },
   "outputs": [],
   "source": [
    "import graphistry"
   ]
  },
  {
   "cell_type": "code",
   "execution_count": 43,
   "metadata": {
    "collapsed": true
   },
   "outputs": [],
   "source": [
    "graphistry.register(key='6c62a65d304487581cb45d9b3c693efe287b162432bbb2f9174d2db609e44465315dc0f78d3a8d3987c64a159717b7c1')"
   ]
  },
  {
   "cell_type": "code",
   "execution_count": 44,
   "metadata": {
    "collapsed": true
   },
   "outputs": [],
   "source": [
    "nx.write_edgelist(G, \"G_edgelist.txt\")"
   ]
  },
  {
   "cell_type": "code",
   "execution_count": 45,
   "metadata": {
    "collapsed": false
   },
   "outputs": [],
   "source": [
    "f=open('HIVnet_edgelist.csv','wb')\n",
    "for edge in G.edges(data=True):\n",
    "    line = CAnet.node[edge[0]]['name']+','+CAnet.node[edge[1]]['name']+','+str(edge[2])+'\\n'\n",
    "    f.write(line)\n",
    "f.close()\n",
    "# print f.write.__doc__"
   ]
  },
  {
   "cell_type": "code",
   "execution_count": 46,
   "metadata": {
    "collapsed": false
   },
   "outputs": [
    {
     "data": {
      "text/html": [
       "\n",
       "            <iframe id=\"994ef2bb-507e-4293-ac1a-b16ef6b2214b\" src=\"https://labs.graphistry.com/graph/graph.html?dataset=PyGraphistry/P33SDNZWMW&type=vgraph&viztoken=390e553fc3a61af393417b0122df767bcf48d238&usertag=a2b33738-pygraphistry-0.9.43&splashAfter=1500499759&info=true\"\n",
       "                    allowfullscreen=\"true\" webkitallowfullscreen=\"true\" mozallowfullscreen=\"true\"\n",
       "                    oallowfullscreen=\"true\" msallowfullscreen=\"true\"\n",
       "                    style=\"width:100%; height:500px; border: 1px solid #DDD\">\n",
       "            </iframe>\n",
       "        \n",
       "            <script>\n",
       "                $(\"#994ef2bb-507e-4293-ac1a-b16ef6b2214b\").bind('mousewheel', function(e) {\n",
       "                e.preventDefault();\n",
       "                });\n",
       "            </script>\n",
       "        "
      ],
      "text/plain": [
       "<IPython.core.display.HTML object>"
      ]
     },
     "execution_count": 46,
     "metadata": {},
     "output_type": "execute_result"
    }
   ],
   "source": [
    "# plotter = graphistry.bind(source=\"source\", destination=\"target\")\n",
    "graph = nx.read_edgelist('HIVnet_edgelist.csv', delimiter=',', nodetype=str)\n",
    "graphistry.bind(source='src', destination='dst', node='nodeid').plot(graph)"
   ]
  },
  {
   "cell_type": "code",
   "execution_count": 18,
   "metadata": {
    "collapsed": false
   },
   "outputs": [
    {
     "data": {
      "text/plain": [
       "'HOUNGBE FABIEN'"
      ]
     },
     "execution_count": 18,
     "metadata": {},
     "output_type": "execute_result"
    }
   ],
   "source": [
    "str(CAnet.node[G.edges(data=True)[0][1]]['name'])"
   ]
  },
  {
   "cell_type": "code",
   "execution_count": 19,
   "metadata": {
    "collapsed": false
   },
   "outputs": [
    {
     "data": {
      "text/plain": [
       "'AHOMADEGBE CHRISTELLE'"
      ]
     },
     "execution_count": 19,
     "metadata": {},
     "output_type": "execute_result"
    }
   ],
   "source": [
    "CAnet.node[0]['name']"
   ]
  },
  {
   "cell_type": "code",
   "execution_count": 49,
   "metadata": {
    "collapsed": true
   },
   "outputs": [],
   "source": [
    "#MultiLayer Graph generation\n",
    "# mnet=pmn.MultiplexNetwork(couplings='categorical',fullyInterconnected=False)"
   ]
  },
  {
   "cell_type": "code",
   "execution_count": 50,
   "metadata": {
    "collapsed": false
   },
   "outputs": [],
   "source": [
    "# dir(CA_testing)\n",
    "# for n in list(CA_testing.edges_iter(data='year')):\n",
    "#     nd=[a for a in n]\n",
    "#     nd[-1]=str(n[-1])\n",
    "#     mnet[nd[0], nd[1], nd[2]] = 1"
   ]
  },
  {
   "cell_type": "code",
   "execution_count": 51,
   "metadata": {
    "collapsed": false
   },
   "outputs": [],
   "source": [
    "# pickle.dump( mnet, open( \"pickle/multiL_testing.p\", \"wb\" ) )"
   ]
  },
  {
   "cell_type": "code",
   "execution_count": 169,
   "metadata": {
    "collapsed": false
   },
   "outputs": [],
   "source": [
    "# fig=pmn.draw(mnet,\n",
    "# #          layout=\"circular\",\n",
    "#          layershape=\"circle\",\n",
    "# #          nodeColorDict={(0,0):\"r\",(1,0):\"r\",(0,1):\"r\"},\n",
    "#          layerLabelRule={},\n",
    "#          nodeLabelRule={},\n",
    "#          show=True,\n",
    "# #          nodeSizeRule={\"rule\":\"degree\",\"propscale\":0.05}\n",
    "#             )"
   ]
  },
  {
   "cell_type": "code",
   "execution_count": 104,
   "metadata": {
    "collapsed": false
   },
   "outputs": [],
   "source": [
    "# for l in in_values:\n",
    "#     print l,in_hist[in_values.index(l)]\n",
    "\n",
    "# for paper in corpus:\n",
    "#     if 'abstract' in dir(paper):\n",
    "#         print paper['abstract'][:20]\n",
    "#     else: print 'None'"
   ]
  },
  {
   "cell_type": "code",
   "execution_count": 71,
   "metadata": {
    "collapsed": false
   },
   "outputs": [],
   "source": [
    "#type(dir(papers[0]))\n",
    "#dir(papers[0].__getitem__)\n",
    "#len(corpus)\n",
    "# for i in range(0,len(corpus)):\n",
    "#     print i,' ',corpus[i]['authorAddress']\n",
    "# dir(corpus[117])"
   ]
  },
  {
   "cell_type": "code",
   "execution_count": 23,
   "metadata": {
    "collapsed": false,
    "scrolled": true
   },
   "outputs": [],
   "source": [
    "# try:\n",
    "#     import matplotlib.pyplot as plt\n",
    "# except:\n",
    "#     raise\n",
    "\n",
    "# import networkx as nx\n",
    "# import math\n",
    "\n",
    "# try:\n",
    "# #     from networkx import graphviz_layout\n",
    "#     from networkx.drawing.nx_agraph import graphviz_layout\n",
    "# #     layout=nx.graphviz_layout\n",
    "#     layout=graphviz_layout\n",
    "# except ImportError:\n",
    "#     print \"PyGraphviz not found; drawing with spring layout; will be slow.\"\n",
    "#     layout=nx.spring_layout\n",
    "\n",
    "\n",
    "# n=150  # 150 nodes\n",
    "# # p value at which giant component (of size log(n) nodes) is expected\n",
    "# p_giant=1.0/(n-1)\n",
    "# # p value at which graph is expected to become completely connected\n",
    "# p_conn=math.log(n)/float(n)\n",
    "\n",
    "# # the following range of p values should be close to the threshold\n",
    "# pvals=[0.003, 0.006, 0.008, 0.015]\n",
    "\n",
    "# region=220 # for pylab 2x2 subplot layout\n",
    "# plt.subplots_adjust(left=0,right=1,bottom=0,top=0.95,wspace=0.01,hspace=0.01)\n",
    "# for p in pvals:\n",
    "#     G=nx.binomial_graph(n,p)\n",
    "#     pos=layout(G)\n",
    "#     region+=1\n",
    "#     plt.subplot(region)\n",
    "#     plt.title(\"p = %6.3f\"%(p))\n",
    "#     nx.draw(G,pos,\n",
    "#             with_labels=False,\n",
    "#             node_size=10\n",
    "#             )\n",
    "#     # identify largest connected component\n",
    "#     Gcc=sorted(nx.connected_component_subgraphs(G), key = len, reverse=True)\n",
    "#     G0=Gcc[0]\n",
    "#     nx.draw_networkx_edges(G0,pos,\n",
    "#                            with_labels=False,\n",
    "#                            edge_color='r',\n",
    "#                            width=6.0\n",
    "#                         )\n",
    "#     # show other connected components\n",
    "#     for Gi in Gcc[1:]:\n",
    "#        if len(Gi)>1:\n",
    "#           nx.draw_networkx_edges(Gi,pos,\n",
    "#                                  with_labels=False,\n",
    "#                                  edge_color='r',\n",
    "#                                  alpha=0.3,\n",
    "#                                  width=5.0\n",
    "#                                  )\n",
    "# plt.savefig(\"giant_component.png\")\n",
    "# plt.show() # display"
   ]
  },
  {
   "cell_type": "code",
   "execution_count": 22,
   "metadata": {
    "collapsed": false
   },
   "outputs": [],
   "source": [
    "# import networkx as nx\n",
    "# import matplotlib.pyplot as plt\n",
    "# from networkx.drawing.nx_agraph import graphviz_layout\n",
    "# import pydot\n",
    "# d = nx.degree(CAnet)\n",
    "\n",
    "# nx.draw(CAnet, nodelist=d.keys(), node_size=[v for v in d.values()])\n",
    "# nx.draw(CAnet, node_size=20,alpha=0.5,node_color=\"blue\", with_labels=False)\n",
    "# pos=nx.spring_layout(CAnet,iterations=50)\n",
    "# pos\n",
    "# nx.draw(CAnet,pos,node_color=range(24),node_size=50,cmap=plt.cm.Blues)\n",
    "\n",
    "# try:\n",
    "#    from networkx import graphviz_layout\n",
    "# except ImportError:\n",
    "#    raise ImportError(\"This example needs Graphviz and either PyGraphviz or Pydot\")\n",
    "# pos=graphviz_layout(CAnet,prog='dot',args='')\n",
    "# pos=graphviz_layout(CAnet,prog='twopi',args='')\n",
    "# plt.figure(figsize=(8,8))\n",
    "# nx.draw(CAnet,pos,node_size=20,alpha=0.5,node_color=\"blue\", with_labels=False)\n",
    "# plt.axis('equal')\n",
    "\n",
    "# plt.show()"
   ]
  },
  {
   "cell_type": "code",
   "execution_count": 34,
   "metadata": {
    "collapsed": false
   },
   "outputs": [],
   "source": [
    "# for cc in nx.connected_components(CAnet).__iter__(): print cc\n",
    "# CAnet2=CAnet.to_undirected()\n",
    "# nx.clustering(CAnet2)"
   ]
  },
  {
   "cell_type": "code",
   "execution_count": 106,
   "metadata": {
    "collapsed": false
   },
   "outputs": [],
   "source": [
    "#CA.edges()\n",
    "# nx.clustering(CAnet)\n",
    "#nx.degree(CA,(u'AKOGBETO', u'MARTIN'))\n",
    "#CA.neighbors((u'AKOGBETO', u'MARTIN'))\n",
    "#for auth in CA:\n",
    "#    print auth\n",
    "#CA.node[(u'AZONDEKON', u'ROSERIC')]\n",
    "#CA.degree((u'AZONDEKON', u'ROSERIC'))\n",
    "#CA.degree((u'AZONDEKON', u'ROSERIC'),weight='weight')\n",
    "#CA.nodes(data=True)\n",
    "#CA[(u'AZONDEKON', u'ROSERIC')][(u'HOUEVOESSA', u'SPERAUD')]['weight']\n",
    "#CA.degree(weight='weight')\n",
    "#dir(CA)\n",
    "#print CA.edge_attr_dict_factory.__doc__\n",
    "# degree=CA.degree().values()\n",
    "#sorted(CA.degree().values())\n"
   ]
  },
  {
   "cell_type": "code",
   "execution_count": 70,
   "metadata": {
    "collapsed": false
   },
   "outputs": [],
   "source": [
    "# len(dis_name)"
   ]
  },
  {
   "cell_type": "code",
   "execution_count": null,
   "metadata": {
    "collapsed": true
   },
   "outputs": [],
   "source": [
    "#BASIC NETWORK ANALYSIS"
   ]
  },
  {
   "cell_type": "code",
   "execution_count": 33,
   "metadata": {
    "collapsed": false
   },
   "outputs": [],
   "source": [
    "# for n in G.adjacency_iter(): print n"
   ]
  },
  {
   "cell_type": "code",
   "execution_count": 20,
   "metadata": {
    "collapsed": false
   },
   "outputs": [
    {
     "name": "stdout",
     "output_type": "stream",
     "text": [
      "2012\n",
      "2014\n",
      "2011\n",
      "2012\n",
      "2011\n",
      "2013\n",
      "2013\n",
      "516 5114\n"
     ]
    }
   ],
   "source": [
    "CAnet2=CAnet.copy()\n",
    "l=CAnet2.edges_iter()\n",
    "edge=list(l)[100]\n",
    "edge\n",
    "dir(CAnet2[edge[0]][edge[1]])\n",
    "for e in CAnet2[edge[0]][edge[1]].keys():\n",
    "    print CAnet2[edge[0]][edge[1]][e]['year']\n",
    "print CAnet2.order(),CAnet2.size()"
   ]
  },
  {
   "cell_type": "code",
   "execution_count": 22,
   "metadata": {
    "collapsed": false
   },
   "outputs": [
    {
     "name": "stdout",
     "output_type": "stream",
     "text": [
      "1996-1997 :   Nodes: 516  Edges: 0\n",
      "1998-1999 :   Nodes: 516  Edges: 3\n",
      "2000-2001 :   Nodes: 516  Edges: 411\n",
      "2002-2003 :   Nodes: 516  Edges: 281\n",
      "2004-2005 :   Nodes: 516  Edges: 156\n",
      "2006-2007 :   Nodes: 516  Edges: 55\n",
      "2008-2009 :   Nodes: 516  Edges: 663\n",
      "2010-2011 :   Nodes: 516  Edges: 635\n",
      "2012-2013 :   Nodes: 516  Edges: 930\n",
      "2014-2015 :   Nodes: 516  Edges: 1769\n",
      "2016 :   Nodes: 516  Edges: 211\n"
     ]
    }
   ],
   "source": [
    "# Subset categorizing the network by period of 2 years\n",
    "## 1996-1997, 1998-1999, 2000-2001, 2002-2003, 2004-2005, 2006-2007, 2008-2009, 2010-2011, 2012-2013, 2014-2015, 2016\n",
    "yr = ['1996-1997', '1998-1999', '2000-2001', '2002-2003', '2004-2005',\n",
    "      '2006-2007', '2008-2009', '2010-2011', '2012-2013', '2014-2015', '2016']\n",
    "subGraph(CAnet, yr, 'sub1')"
   ]
  },
  {
   "cell_type": "code",
   "execution_count": 23,
   "metadata": {
    "collapsed": false
   },
   "outputs": [
    {
     "name": "stdout",
     "output_type": "stream",
     "text": [
      "1996-2001 :   Nodes: 516  Edges: 414\n",
      "2002-2008 :   Nodes: 516  Edges: 974\n",
      "2009-2010 :   Nodes: 516  Edges: 447\n",
      "2010-2011 :   Nodes: 516  Edges: 635\n",
      "2011-2012 :   Nodes: 516  Edges: 633\n",
      "2013-2014 :   Nodes: 516  Edges: 1192\n",
      "2015-2016 :   Nodes: 516  Edges: 1454\n"
     ]
    }
   ],
   "source": [
    "# Uneven Subsetting of the network\n",
    "## 1996-2006, 2007-2009, 2010-2011, 2014, 2015, 2016\n",
    "yr2 = ['1996-2001', '2002-2008', '2009-2010', '2011-2012', '2013-2014', '2015-2016']\n",
    "subGraph(CAnet, yr2, 'sub2')"
   ]
  },
  {
   "cell_type": "code",
   "execution_count": 24,
   "metadata": {
    "collapsed": false
   },
   "outputs": [
    {
     "name": "stdout",
     "output_type": "stream",
     "text": [
      "name:"
     ]
    },
    {
     "ename": "NameError",
     "evalue": "name 'temp' is not defined",
     "output_type": "error",
     "traceback": [
      "\u001b[0;31m---------------------------------------------------------------------------\u001b[0m",
      "\u001b[0;31mNameError\u001b[0m                                 Traceback (most recent call last)",
      "\u001b[0;32m<ipython-input-24-89937238c95b>\u001b[0m in \u001b[0;36m<module>\u001b[0;34m()\u001b[0m\n\u001b[1;32m      1\u001b[0m \u001b[1;31m# nx.get_node_attributes(CAnet,'timesCited')\u001b[0m\u001b[1;33m\u001b[0m\u001b[1;33m\u001b[0m\u001b[0m\n\u001b[1;32m      2\u001b[0m \u001b[0ment\u001b[0m\u001b[1;33m=\u001b[0m\u001b[1;36m5\u001b[0m\u001b[1;33m\u001b[0m\u001b[0m\n\u001b[0;32m----> 3\u001b[0;31m \u001b[1;32mprint\u001b[0m \u001b[1;34m'name:'\u001b[0m\u001b[1;33m,\u001b[0m\u001b[0mtemp\u001b[0m\u001b[1;33m.\u001b[0m\u001b[0mnode\u001b[0m\u001b[1;33m[\u001b[0m\u001b[0ment\u001b[0m\u001b[1;33m]\u001b[0m\u001b[1;33m[\u001b[0m\u001b[1;34m'name'\u001b[0m\u001b[1;33m]\u001b[0m\u001b[1;33m,\u001b[0m\u001b[1;34m'   numb. of Publ.:'\u001b[0m\u001b[1;33m,\u001b[0m\u001b[0mtemp\u001b[0m\u001b[1;33m.\u001b[0m\u001b[0mnode\u001b[0m\u001b[1;33m[\u001b[0m\u001b[0ment\u001b[0m\u001b[1;33m]\u001b[0m\u001b[1;33m[\u001b[0m\u001b[1;34m'numPub'\u001b[0m\u001b[1;33m]\u001b[0m\u001b[1;33m,\u001b[0m\u001b[1;34m'   timesCited:'\u001b[0m\u001b[1;33m,\u001b[0m\u001b[0mtemp\u001b[0m\u001b[1;33m.\u001b[0m\u001b[0mnode\u001b[0m\u001b[1;33m[\u001b[0m\u001b[0ment\u001b[0m\u001b[1;33m]\u001b[0m\u001b[1;33m[\u001b[0m\u001b[1;34m'timesCited'\u001b[0m\u001b[1;33m]\u001b[0m\u001b[1;33m\u001b[0m\u001b[0m\n\u001b[0m",
      "\u001b[0;31mNameError\u001b[0m: name 'temp' is not defined"
     ]
    }
   ],
   "source": [
    "# nx.get_node_attributes(CAnet,'timesCited')\n",
    "ent=5\n",
    "print 'name:',temp.node[ent]['name'],'   numb. of Publ.:',temp.node[ent]['numPub'],'   timesCited:',temp.node[ent]['timesCited']"
   ]
  }
 ],
 "metadata": {
  "kernelspec": {
   "display_name": "Python 2",
   "language": "python",
   "name": "python2"
  },
  "language_info": {
   "codemirror_mode": {
    "name": "ipython",
    "version": 2
   },
   "file_extension": ".py",
   "mimetype": "text/x-python",
   "name": "python",
   "nbconvert_exporter": "python",
   "pygments_lexer": "ipython2",
   "version": "2.7.11rc1"
  }
 },
 "nbformat": 4,
 "nbformat_minor": 2
}
