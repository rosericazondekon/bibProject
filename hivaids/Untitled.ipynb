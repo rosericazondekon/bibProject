{
 "cells": [
  {
   "cell_type": "code",
   "execution_count": 27,
   "metadata": {
    "collapsed": false
   },
   "outputs": [],
   "source": [
    "# from networkx import *\n",
    "# import networkx as nx\n",
    "import pymnet"
   ]
  },
  {
   "cell_type": "code",
   "execution_count": 28,
   "metadata": {
    "collapsed": false
   },
   "outputs": [
    {
     "ename": "Exception",
     "evalue": "Networkx needs to be installed to use layout: spring",
     "output_type": "error",
     "traceback": [
      "\u001b[0;31m---------------------------------------------------------------------------\u001b[0m",
      "\u001b[0;31mException\u001b[0m                                 Traceback (most recent call last)",
      "\u001b[0;32m<ipython-input-28-cb44ba7e3f36>\u001b[0m in \u001b[0;36m<module>\u001b[0;34m()\u001b[0m\n\u001b[1;32m      1\u001b[0m \u001b[0mnet\u001b[0m \u001b[1;33m=\u001b[0m \u001b[0mer_multilayer\u001b[0m\u001b[1;33m(\u001b[0m\u001b[1;36m5\u001b[0m\u001b[1;33m,\u001b[0m\u001b[1;36m2\u001b[0m\u001b[1;33m,\u001b[0m\u001b[1;36m0.2\u001b[0m\u001b[1;33m)\u001b[0m\u001b[1;33m\u001b[0m\u001b[0m\n\u001b[0;32m----> 2\u001b[0;31m \u001b[0mfig\u001b[0m \u001b[1;33m=\u001b[0m \u001b[0mdraw\u001b[0m\u001b[1;33m(\u001b[0m\u001b[0mnet\u001b[0m\u001b[1;33m,\u001b[0m\u001b[0mshow\u001b[0m\u001b[1;33m=\u001b[0m\u001b[0mTrue\u001b[0m\u001b[1;33m)\u001b[0m\u001b[1;33m\u001b[0m\u001b[0m\n\u001b[0m",
      "\u001b[0;32mc:\\python27\\lib\\site-packages\\pymnet-0.1-py2.7.egg\\pymnet\\visuals\\drawcore.pyc\u001b[0m in \u001b[0;36mdraw\u001b[0;34m(net, layout, layershape, azim, elev, show, layergap, camera_dist, autoscale, backend, figsize, nodeCoords, nodelayerCoords, layerPadding, alignedNodes, layerColorDict, layerColorRule, defaultLayerColor, layerAlphaDict, layerAlphaRule, defaultLayerAlpha, layerLabelDict, layerLabelRule, defaultLayerLabel, layerLabelLocDict, layerLabelLocRule, defaultLayerLabelLoc, layerLabelSizeDict, layerLabelSizeRule, defaultLayerLabelSize, layerLabelColorDict, layerLabelColorRule, defaultLayerLabelColor, layerLabelStyleDict, layerLabelStyleRule, defaultLayerLabelStyle, layerLabelAlphaDict, layerLabelAlphaRule, defaultLayerLabelAlpha, layerOrderDict, layerOrderRule, defaultLayerOrder, nodeLabelDict, nodeLabelRule, defaultNodeLabel, nodeLabelSizeDict, nodeLabelSizeRule, defaultNodeLabelSize, nodeLabelColorDict, nodeLabelColorRule, defaultNodeLabelColor, nodeLabelStyleDict, nodeLabelStyleRule, defaultNodeLabelStyle, nodeLabelAlphaDict, nodeLabelAlphaRule, defaultNodeLabelAlpha, nodeSizeDict, nodeSizeRule, defaultNodeSize, nodeColorDict, nodeColorRule, defaultNodeColor, edgeColorDict, edgeColorRule, defaultEdgeColor, edgeWidthDict, edgeWidthRule, defaultEdgeWidth, edgeAlphaDict, edgeAlphaRule, defaultEdgeAlpha, edgeZDict, edgeZRule, defaultEdgeZ, edgeStyleDict, edgeStyleRule, defaultEdgeStyle)\u001b[0m\n\u001b[1;32m    150\u001b[0m \u001b[1;33m\u001b[0m\u001b[0m\n\u001b[1;32m    151\u001b[0m     \u001b[1;31m#Get coordinates\u001b[0m\u001b[1;33m\u001b[0m\u001b[1;33m\u001b[0m\u001b[0m\n\u001b[0;32m--> 152\u001b[0;31m     \u001b[0mncoords\u001b[0m\u001b[1;33m,\u001b[0m\u001b[0mnlcoords\u001b[0m\u001b[1;33m=\u001b[0m\u001b[0mget_layout\u001b[0m\u001b[1;33m(\u001b[0m\u001b[0mlayout\u001b[0m\u001b[1;33m,\u001b[0m\u001b[0mnet\u001b[0m\u001b[1;33m,\u001b[0m\u001b[0malignedNodes\u001b[0m\u001b[1;33m=\u001b[0m\u001b[0malignedNodes\u001b[0m\u001b[1;33m)\u001b[0m\u001b[1;33m\u001b[0m\u001b[0m\n\u001b[0m\u001b[1;32m    153\u001b[0m \u001b[1;33m\u001b[0m\u001b[0m\n\u001b[1;32m    154\u001b[0m     \u001b[1;32mfor\u001b[0m \u001b[0mnode\u001b[0m\u001b[1;33m,\u001b[0m\u001b[0mcoord\u001b[0m \u001b[1;32min\u001b[0m \u001b[0mnodeCoords\u001b[0m\u001b[1;33m.\u001b[0m\u001b[0mitems\u001b[0m\u001b[1;33m(\u001b[0m\u001b[1;33m)\u001b[0m\u001b[1;33m:\u001b[0m\u001b[1;33m\u001b[0m\u001b[0m\n",
      "\u001b[0;32mc:\\python27\\lib\\site-packages\\pymnet-0.1-py2.7.egg\\pymnet\\visuals\\layouts.pyc\u001b[0m in \u001b[0;36mget_layout\u001b[0;34m(layout, net, alignedNodes, **kwargs)\u001b[0m\n\u001b[1;32m     30\u001b[0m                 \u001b[0mncoords\u001b[0m\u001b[1;33m=\u001b[0m\u001b[0mla\u001b[0m\u001b[1;33m(\u001b[0m\u001b[0mna\u001b[0m\u001b[1;33m,\u001b[0m\u001b[1;33m**\u001b[0m\u001b[0mkwargs\u001b[0m\u001b[1;33m)\u001b[0m\u001b[1;33m\u001b[0m\u001b[0m\n\u001b[1;32m     31\u001b[0m             \u001b[1;32melse\u001b[0m\u001b[1;33m:\u001b[0m\u001b[1;33m\u001b[0m\u001b[0m\n\u001b[0;32m---> 32\u001b[0;31m                 \u001b[1;32mraise\u001b[0m \u001b[0mException\u001b[0m\u001b[1;33m(\u001b[0m\u001b[1;34m\"Networkx needs to be installed to use layout: \"\u001b[0m\u001b[1;33m+\u001b[0m\u001b[0mlayout\u001b[0m\u001b[1;33m)\u001b[0m\u001b[1;33m\u001b[0m\u001b[0m\n\u001b[0m\u001b[1;32m     33\u001b[0m         \u001b[1;32melif\u001b[0m \u001b[0mlayout\u001b[0m\u001b[1;33m==\u001b[0m\u001b[1;34m\"random\"\u001b[0m\u001b[1;33m:\u001b[0m\u001b[1;33m\u001b[0m\u001b[0m\n\u001b[1;32m     34\u001b[0m             \u001b[1;32mfor\u001b[0m \u001b[0mnode\u001b[0m \u001b[1;32min\u001b[0m \u001b[0mnet\u001b[0m\u001b[1;33m:\u001b[0m\u001b[1;33m\u001b[0m\u001b[0m\n",
      "\u001b[0;31mException\u001b[0m: Networkx needs to be installed to use layout: spring"
     ]
    }
   ],
   "source": [
    "net = er_multilayer(5,2,0.2)\n",
    "fig = draw(net,show=True)"
   ]
  },
  {
   "cell_type": "code",
   "execution_count": null,
   "metadata": {
    "collapsed": true
   },
   "outputs": [],
   "source": []
  }
 ],
 "metadata": {
  "kernelspec": {
   "display_name": "Python 2",
   "language": "python",
   "name": "python2"
  },
  "language_info": {
   "codemirror_mode": {
    "name": "ipython",
    "version": 2
   },
   "file_extension": ".py",
   "mimetype": "text/x-python",
   "name": "python",
   "nbconvert_exporter": "python",
   "pygments_lexer": "ipython2",
   "version": "2.7.11rc1"
  }
 },
 "nbformat": 4,
 "nbformat_minor": 2
}
